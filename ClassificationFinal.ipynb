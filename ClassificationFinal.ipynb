{
 "cells": [
  {
   "cell_type": "raw",
   "id": "5dbbea0e-3a99-459e-abd6-0959e6946869",
   "metadata": {},
   "source": [
    "---\n",
    "title: \"Prediction Problem\"\n",
    "subtitle: \"STAT 303-3 Spring 25\"\n",
    "format: \n",
    "  html:\n",
    "    toc: true\n",
    "    toc-title: Contents\n",
    "    code-fold: show\n",
    "    embed-resources: true\n",
    "jupyter: python3\n",
    "---"
   ]
  },
  {
   "cell_type": "markdown",
   "id": "7ec7523b-6099-4001-a997-60005980e73a",
   "metadata": {},
   "source": [
    "## Instructions:\n",
    "\n",
    "- Put the parts of your code under the corresponding sections. (0.25/2 points will be taken off for not doing this.)\n",
    "- Do not include any redundant/irrelevant code, text or comments. (0.5/2 points will be taken off for not doing this.)\n",
    "- **Your code must run without any errors or runtime issues.** (Failure to meet this condition will result in a 0.)\n",
    "- **Your code must return your Public Leaderboard score.** (Failure to meet this condition will result in a 0.)\n",
    "- **Submit both your ipynb and your html file for grading purposes.**"
   ]
  },
  {
   "cell_type": "markdown",
   "id": "03031cca-1a24-4e66-926e-2b32f85f3cc7",
   "metadata": {},
   "source": [
    "## 1) Libraries"
   ]
  },
  {
   "cell_type": "markdown",
   "id": "6d65f439-927b-4b40-9008-a715356fbe58",
   "metadata": {},
   "source": [
    "Put all the Python libraries and tools you imported here."
   ]
  },
  {
   "cell_type": "code",
   "execution_count": 35,
   "id": "9eb866b1-8f62-4ca4-a39e-5774486da357",
   "metadata": {},
   "outputs": [],
   "source": [
    "import pandas as pd\n",
    "import numpy as np\n",
    "from sklearn.ensemble import GradientBoostingClassifier"
   ]
  },
  {
   "cell_type": "markdown",
   "id": "1877d116-1e8d-426e-84ba-10c47e28a1ac",
   "metadata": {},
   "source": [
    "## 2) Data"
   ]
  },
  {
   "cell_type": "markdown",
   "id": "177363af-51a7-4b16-b6d2-33ba5796bd20",
   "metadata": {},
   "source": [
    "- This section is required to include the code that reads, cleans and preprocesses the datasets.\n",
    "- Note that both the training and test datasets should undergo the same sequence of operations."
   ]
  },
  {
   "cell_type": "code",
   "execution_count": 36,
   "id": "ddcc4a5b-777a-4b75-8fd7-b0594591ea8d",
   "metadata": {},
   "outputs": [
    {
     "name": "stderr",
     "output_type": "stream",
     "text": [
      "/var/folders/4q/z8w1xb_j25z57yk88l5wk9mr0000gn/T/ipykernel_41131/1580002216.py:54: FutureWarning: A value is trying to be set on a copy of a DataFrame or Series through chained assignment using an inplace method.\n",
      "The behavior will change in pandas 3.0. This inplace method will never work because the intermediate object on which we are setting values always behaves as a copy.\n",
      "\n",
      "For example, when doing 'df[col].method(value, inplace=True)', try using 'df.method({col: value}, inplace=True)' or df[col] = df[col].method(value) instead, to perform the operation inplace on the original object.\n",
      "\n",
      "\n",
      "  X_train[col].fillna(mean_value, inplace=True)\n",
      "/var/folders/4q/z8w1xb_j25z57yk88l5wk9mr0000gn/T/ipykernel_41131/1580002216.py:55: FutureWarning: A value is trying to be set on a copy of a DataFrame or Series through chained assignment using an inplace method.\n",
      "The behavior will change in pandas 3.0. This inplace method will never work because the intermediate object on which we are setting values always behaves as a copy.\n",
      "\n",
      "For example, when doing 'df[col].method(value, inplace=True)', try using 'df.method({col: value}, inplace=True)' or df[col] = df[col].method(value) instead, to perform the operation inplace on the original object.\n",
      "\n",
      "\n",
      "  X_test[col].fillna(mean_value, inplace=True)\n",
      "/var/folders/4q/z8w1xb_j25z57yk88l5wk9mr0000gn/T/ipykernel_41131/1580002216.py:62: FutureWarning: A value is trying to be set on a copy of a DataFrame or Series through chained assignment using an inplace method.\n",
      "The behavior will change in pandas 3.0. This inplace method will never work because the intermediate object on which we are setting values always behaves as a copy.\n",
      "\n",
      "For example, when doing 'df[col].method(value, inplace=True)', try using 'df.method({col: value}, inplace=True)' or df[col] = df[col].method(value) instead, to perform the operation inplace on the original object.\n",
      "\n",
      "\n",
      "  X_train[col].fillna(\"missing\", inplace=True)\n",
      "/var/folders/4q/z8w1xb_j25z57yk88l5wk9mr0000gn/T/ipykernel_41131/1580002216.py:63: FutureWarning: A value is trying to be set on a copy of a DataFrame or Series through chained assignment using an inplace method.\n",
      "The behavior will change in pandas 3.0. This inplace method will never work because the intermediate object on which we are setting values always behaves as a copy.\n",
      "\n",
      "For example, when doing 'df[col].method(value, inplace=True)', try using 'df.method({col: value}, inplace=True)' or df[col] = df[col].method(value) instead, to perform the operation inplace on the original object.\n",
      "\n",
      "\n",
      "  X_test[col].fillna(\"missing\", inplace=True)\n",
      "/var/folders/4q/z8w1xb_j25z57yk88l5wk9mr0000gn/T/ipykernel_41131/1580002216.py:70: FutureWarning: A value is trying to be set on a copy of a DataFrame or Series through chained assignment using an inplace method.\n",
      "The behavior will change in pandas 3.0. This inplace method will never work because the intermediate object on which we are setting values always behaves as a copy.\n",
      "\n",
      "For example, when doing 'df[col].method(value, inplace=True)', try using 'df.method({col: value}, inplace=True)' or df[col] = df[col].method(value) instead, to perform the operation inplace on the original object.\n",
      "\n",
      "\n",
      "  X_train[col].fillna(earliest_date, inplace=True)\n",
      "/var/folders/4q/z8w1xb_j25z57yk88l5wk9mr0000gn/T/ipykernel_41131/1580002216.py:71: FutureWarning: A value is trying to be set on a copy of a DataFrame or Series through chained assignment using an inplace method.\n",
      "The behavior will change in pandas 3.0. This inplace method will never work because the intermediate object on which we are setting values always behaves as a copy.\n",
      "\n",
      "For example, when doing 'df[col].method(value, inplace=True)', try using 'df.method({col: value}, inplace=True)' or df[col] = df[col].method(value) instead, to perform the operation inplace on the original object.\n",
      "\n",
      "\n",
      "  X_test[col].fillna(earliest_date, inplace=True)\n",
      "/var/folders/4q/z8w1xb_j25z57yk88l5wk9mr0000gn/T/ipykernel_41131/1580002216.py:102: FutureWarning: A value is trying to be set on a copy of a DataFrame or Series through chained assignment using an inplace method.\n",
      "The behavior will change in pandas 3.0. This inplace method will never work because the intermediate object on which we are setting values always behaves as a copy.\n",
      "\n",
      "For example, when doing 'df[col].method(value, inplace=True)', try using 'df.method({col: value}, inplace=True)' or df[col] = df[col].method(value) instead, to perform the operation inplace on the original object.\n",
      "\n",
      "\n",
      "  X_train_cat_attempt1_ohe[col].fillna(mean_value, inplace=True)\n",
      "/var/folders/4q/z8w1xb_j25z57yk88l5wk9mr0000gn/T/ipykernel_41131/1580002216.py:106: FutureWarning: A value is trying to be set on a copy of a DataFrame or Series through chained assignment using an inplace method.\n",
      "The behavior will change in pandas 3.0. This inplace method will never work because the intermediate object on which we are setting values always behaves as a copy.\n",
      "\n",
      "For example, when doing 'df[col].method(value, inplace=True)', try using 'df.method({col: value}, inplace=True)' or df[col] = df[col].method(value) instead, to perform the operation inplace on the original object.\n",
      "\n",
      "\n",
      "  X_test_cat_attempt1_ohe[col].fillna(mean_value, inplace=True)\n"
     ]
    }
   ],
   "source": [
    "test = pd.read_csv('test_classification.csv')\n",
    "train = pd.read_csv('train_classification.csv')\n",
    "\n",
    "# Converting test and train to datetime objects to date time\n",
    "train[['host_since', 'first_review', 'last_review']] = train[['host_since', 'first_review', 'last_review']].apply(pd.to_datetime)\n",
    "test[['host_since', 'first_review', 'last_review']] = test[['host_since', 'first_review', 'last_review']].apply(pd.to_datetime)\n",
    "\n",
    "\n",
    "# Removing % from numbers\n",
    "train['host_response_rate'] = train['host_response_rate'].str.rstrip('%').astype(float)\n",
    "train['host_acceptance_rate'] = train['host_acceptance_rate'].str.rstrip('%').astype(float)\n",
    "\n",
    "test['host_response_rate'] = test['host_response_rate'].str.rstrip('%').astype(float)\n",
    "test['host_acceptance_rate'] = test['host_acceptance_rate'].str.rstrip('%').astype(float)\n",
    "\n",
    "X_train = train.drop(columns=['host_is_superhost'])\n",
    "y_train = train['host_is_superhost']\n",
    "\n",
    "X_test = test\n",
    "\n",
    "X_train[['has_availability', 'review_scores_rating', 'review_scores_accuracy', 'review_scores_cleanliness', 'review_scores_checkin', 'review_scores_communication', 'review_scores_location', 'review_scores_value', 'reviews_per_month']] = X_train[['has_availability', 'review_scores_rating', 'review_scores_accuracy', 'review_scores_cleanliness', 'review_scores_checkin', 'review_scores_communication', 'review_scores_location', 'review_scores_value', 'reviews_per_month']].fillna(0)\n",
    "X_test[['has_availability', 'review_scores_rating', 'review_scores_accuracy', 'review_scores_cleanliness', 'review_scores_checkin', 'review_scores_communication', 'review_scores_location', 'review_scores_value', 'reviews_per_month']] = X_test[['has_availability', 'review_scores_rating', 'review_scores_accuracy', 'review_scores_cleanliness', 'review_scores_checkin', 'review_scores_communication', 'review_scores_location', 'review_scores_value', 'reviews_per_month']].fillna(0)\n",
    "\n",
    "def extract_bathrooms(text):\n",
    "    if pd.isnull(text):\n",
    "        return np.nan\n",
    "    # Check if it starts with \"Half\"\n",
    "    if 'Half' in text:\n",
    "        return 0.5\n",
    "    # Otherwise extract the first number\n",
    "    try:\n",
    "        return float(text.split(' ')[0])\n",
    "    except:\n",
    "        return np.nan\n",
    "\n",
    "X_train['bathrooms'] = X_train['bathrooms_text'].apply(extract_bathrooms)\n",
    "X_test['bathrooms'] = X_test['bathrooms_text'].apply(extract_bathrooms)\n",
    "\n",
    "def count_verifications(text):\n",
    "    if pd.isnull(text):\n",
    "        return 0\n",
    "    # Remove square brackets and split by comma\n",
    "    items = text.strip('[]').split(',')\n",
    "    return len(items)\n",
    "\n",
    "X_train['num_host_verifications'] = X_train['host_verifications'].apply(count_verifications)\n",
    "X_test['num_host_verifications'] = X_test['host_verifications'].apply(count_verifications)\n",
    "\n",
    "\n",
    "# Fixing NaN values in numerical columns\n",
    "numerical_cols = X_train.select_dtypes(include=['float64', 'int64', 'bool']).columns\n",
    "for col in numerical_cols:\n",
    "    mean_value = X_train[col].mean()\n",
    "    X_train[col].fillna(mean_value, inplace=True)\n",
    "    X_test[col].fillna(mean_value, inplace=True)\n",
    "\n",
    "\n",
    "# Fixing NaN values in categorical columns\n",
    "categorical_cols = X_train.select_dtypes(include=['object']).columns\n",
    "for col in categorical_cols:\n",
    "    mode_value = X_train[col].mode()[0]\n",
    "    X_train[col].fillna(\"missing\", inplace=True)\n",
    "    X_test[col].fillna(\"missing\", inplace=True)\n",
    "\n",
    "\n",
    "# Fixing NaN values in datetime columns\n",
    "datetime_cols = X_train.select_dtypes(include=['datetime64[ns]']).columns\n",
    "for col in datetime_cols:\n",
    "    earliest_date = X_train[col].min()\n",
    "    X_train[col].fillna(earliest_date, inplace=True)\n",
    "    X_test[col].fillna(earliest_date, inplace=True)\n",
    "\n",
    "X_train['bedrooms_per_accommodates'] = X_train['bedrooms'] / (X_train['accommodates'] + 1)\n",
    "X_test['bedrooms_per_accommodates'] = X_test['bedrooms'] / (X_test['accommodates'] + 1)\n",
    "\n",
    "X_train['beds_per_accommodates'] = X_train['beds'] / (X_train['accommodates'] + 1)\n",
    "X_test['beds_per_accommodates'] = X_test['beds'] / (X_test['accommodates'] + 1)\n",
    "\n",
    "X_train['bathrooms_per_accommodates'] = X_train['bathrooms'] / (X_train['accommodates'] + 1)\n",
    "X_test['bathrooms_per_accommodates'] = X_test['bathrooms'] / (X_test['accommodates'] + 1)\n",
    "\n",
    "X_train_cat_attempt1 = X_train[['listing_location', 'host_response_time', 'host_has_profile_pic', \n",
    "                                'host_identity_verified', 'room_type', 'property_type', \n",
    "                                'instant_bookable']]\n",
    "\n",
    "X_test_cat_attempt1 = X_test[['listing_location', 'host_response_time', 'host_has_profile_pic', \n",
    "                              'host_identity_verified', 'room_type', 'property_type', \n",
    "                              'instant_bookable']]\n",
    "\n",
    "\n",
    "X_train_num_attempt1 = X_train.select_dtypes(include=['float64', 'int64', 'bool'])\n",
    "\n",
    "\n",
    "X_test_num_attempt1 = X_test.select_dtypes(include=['float64', 'int64', 'bool'])\n",
    "X_test_cat_attempt1 = X_test.select_dtypes(include=['object'])\n",
    "\n",
    "X_train_cat_attempt1_ohe = pd.get_dummies(X_train_cat_attempt1, drop_first=True)\n",
    "X_test_cat_attempt1_ohe = pd.get_dummies(X_test_cat_attempt1, drop_first=True)\n",
    "\n",
    "for col in X_train_cat_attempt1_ohe.columns:\n",
    "    mean_value = X_train_cat_attempt1_ohe[col].mean()\n",
    "    X_train_cat_attempt1_ohe[col].fillna(mean_value, inplace=True)\n",
    "\n",
    "for col in X_test_cat_attempt1_ohe.columns:\n",
    "    mean_value = X_test_cat_attempt1_ohe[col].mean()\n",
    "    X_test_cat_attempt1_ohe[col].fillna(mean_value, inplace=True)\n",
    "\n",
    "# Align columns to ensure consistency between train and test sets\n",
    "X_train_cat_attempt1_ohe, X_test_cat_attempt1_ohe = X_train_cat_attempt1_ohe.align(\n",
    "    X_test_cat_attempt1_ohe, join='left', axis=1, fill_value=0\n",
    ")\n",
    "\n",
    "# Combining scaled numerical and one-hot encoded categorical features\n",
    "X_train_complete = pd.concat([X_train_num_attempt1, X_train_cat_attempt1_ohe], axis=1)\n",
    "X_test_complete = pd.concat([X_test_num_attempt1, X_test_cat_attempt1_ohe], axis=1)"
   ]
  },
  {
   "cell_type": "markdown",
   "id": "1078e4fa-9a22-44ca-b1e3-944f25dac70a",
   "metadata": {},
   "source": [
    "## 3) Machine Learning Model"
   ]
  },
  {
   "cell_type": "markdown",
   "id": "8fa5c8b4-9aab-4022-8561-5f8bf964cab3",
   "metadata": {},
   "source": [
    "- This section is required to train the **already tuned** model and obtain the test predictions (or prediction probabilities) with it.\n",
    "- As written in the instructions, your code must not have any runtime issues, so **do NOT include your grid search here!** You will still need to tune your model to pass the thresholds. However, you need to keep that as your personal work and should NOT include the grid search here."
   ]
  },
  {
   "cell_type": "code",
   "execution_count": 40,
   "id": "80ccfd51-090e-4685-a4fc-d26c8fbe12d5",
   "metadata": {},
   "outputs": [],
   "source": [
    "model = GradientBoostingClassifier(learning_rate=0.5, max_depth=12, n_estimators=125, subsample=1.0, random_state=12)\n",
    "model.fit(X_train_complete, y_train)\n",
    "y_pred_test = model.predict_proba(X_test_complete)[:, 1]"
   ]
  },
  {
   "cell_type": "markdown",
   "id": "2dc2d1c1-edd2-428c-9944-2bafc8f9291b",
   "metadata": {},
   "source": [
    "## 4) Exporting the Predictions"
   ]
  },
  {
   "cell_type": "markdown",
   "id": "d4e92cdc-e3e0-423a-a248-cf3b1cf99f68",
   "metadata": {},
   "source": [
    "Include the code that (1) puts the predictions in the format that Kaggle understands and (2) exports it as a csv file."
   ]
  },
  {
   "cell_type": "code",
   "execution_count": 41,
   "id": "e1f881e2-bccf-49e3-aa6c-ff4381883031",
   "metadata": {},
   "outputs": [],
   "source": [
    "submission = pd.DataFrame({'id': test['id'], 'predicted': y_pred_test})\n",
    "submission.to_csv('classification_submission.csv', index=False)"
   ]
  }
 ],
 "metadata": {
  "kernelspec": {
   "display_name": "base",
   "language": "python",
   "name": "python3"
  },
  "language_info": {
   "codemirror_mode": {
    "name": "ipython",
    "version": 3
   },
   "file_extension": ".py",
   "mimetype": "text/x-python",
   "name": "python",
   "nbconvert_exporter": "python",
   "pygments_lexer": "ipython3",
   "version": "3.12.7"
  }
 },
 "nbformat": 4,
 "nbformat_minor": 5
}
